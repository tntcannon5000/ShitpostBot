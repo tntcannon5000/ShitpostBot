{
 "cells": [
  {
   "cell_type": "code",
   "execution_count": 1,
   "metadata": {},
   "outputs": [
    {
     "data": {
      "text/plain": [
       "True"
      ]
     },
     "execution_count": 1,
     "metadata": {},
     "output_type": "execute_result"
    }
   ],
   "source": [
    "# Importing the required libraries\n",
    "import boto3\n",
    "import os\n",
    "import io\n",
    "import uuid\n",
    "from dotenv import load_dotenv\n",
    "import pandas as pd\n",
    "# Load environment variables from .env file\n",
    "load_dotenv()"
   ]
  },
  {
   "cell_type": "code",
   "execution_count": 2,
   "metadata": {},
   "outputs": [],
   "source": [
    "UPLOAD_FOLDER = \"memes_input\"\n",
    "BUCKET_NAME = 'memes-repo-ia'\n",
    "INDEX_FILE = 'csv-folder/indexes.csv'\n",
    "MEMES_FOLDER = 'memes-folder'"
   ]
  },
  {
   "cell_type": "code",
   "execution_count": 3,
   "metadata": {},
   "outputs": [],
   "source": [
    "s3 = boto3.client('s3')\n",
    "obj = s3.get_object(Bucket=BUCKET_NAME, Key=INDEX_FILE)\n",
    "df = pd.read_csv(obj['Body'])"
   ]
  },
  {
   "cell_type": "code",
   "execution_count": 4,
   "metadata": {},
   "outputs": [
    {
     "name": "stdout",
     "output_type": "stream",
     "text": [
      "Uploaded: 186fef8.jpg as memes-folder/d7d0c2_186fef8.jpg\n",
      "Uploaded: 681c3e1.jpg as memes-folder/3bf925_681c3e1.jpg\n",
      "Uploaded: IMG_7212.jpg as memes-folder/2aa873_IMG_7212.jpg\n",
      "Uploaded: IMG_7723.jpg as memes-folder/325deb_IMG_7723.jpg\n",
      "Uploaded: IMG_8236.jpg as memes-folder/e99cde_IMG_8236.jpg\n",
      "Uploaded: IMG_8596.jpg as memes-folder/0a27ab_IMG_8596.jpg\n",
      "Uploaded: IMG_8795.jpg as memes-folder/af2a5f_IMG_8795.jpg\n",
      "Uploaded: IMG_8941.jpg as memes-folder/d7958c_IMG_8941.jpg\n",
      "Uploaded: IMG_9792.jpg as memes-folder/9880ce_IMG_9792.jpg\n"
     ]
    }
   ],
   "source": [
    "uploaded_files = []\n",
    "upload_success = False\n",
    "for filename in os.listdir(UPLOAD_FOLDER):\n",
    "    local_path = os.path.join(UPLOAD_FOLDER, filename)\n",
    "    uid = str(uuid.uuid4())[:6]\n",
    "    s3_key = f\"{MEMES_FOLDER}/{uid}_{filename}\"\n",
    "    try:\n",
    "        s3.upload_file(local_path, BUCKET_NAME, s3_key)\n",
    "        uploaded_files.append(s3_key)\n",
    "        print(f\"Uploaded: {filename} as {s3_key}\")\n",
    "        os.remove(local_path)\n",
    "        upload_success = True\n",
    "    except Exception as e:\n",
    "        print(f\"Error uploading {filename}: {str(e)}\")\n",
    "\n"
   ]
  },
  {
   "cell_type": "code",
   "execution_count": 5,
   "metadata": {},
   "outputs": [
    {
     "data": {
      "text/plain": [
       "['memes-folder/d7d0c2_186fef8.jpg',\n",
       " 'memes-folder/3bf925_681c3e1.jpg',\n",
       " 'memes-folder/2aa873_IMG_7212.jpg',\n",
       " 'memes-folder/325deb_IMG_7723.jpg',\n",
       " 'memes-folder/e99cde_IMG_8236.jpg',\n",
       " 'memes-folder/0a27ab_IMG_8596.jpg',\n",
       " 'memes-folder/af2a5f_IMG_8795.jpg',\n",
       " 'memes-folder/d7958c_IMG_8941.jpg',\n",
       " 'memes-folder/9880ce_IMG_9792.jpg']"
      ]
     },
     "execution_count": 5,
     "metadata": {},
     "output_type": "execute_result"
    }
   ],
   "source": [
    "uploaded_files"
   ]
  },
  {
   "cell_type": "code",
   "execution_count": 6,
   "metadata": {},
   "outputs": [
    {
     "name": "stderr",
     "output_type": "stream",
     "text": [
      "/tmp/ipykernel_155756/4211249837.py:3: FutureWarning: The frame.append method is deprecated and will be removed from pandas in a future version. Use pandas.concat instead.\n",
      "  df = df.append(pd.Series([len(df), item], index=df.columns), ignore_index=True)\n",
      "/tmp/ipykernel_155756/4211249837.py:3: FutureWarning: The frame.append method is deprecated and will be removed from pandas in a future version. Use pandas.concat instead.\n",
      "  df = df.append(pd.Series([len(df), item], index=df.columns), ignore_index=True)\n",
      "/tmp/ipykernel_155756/4211249837.py:3: FutureWarning: The frame.append method is deprecated and will be removed from pandas in a future version. Use pandas.concat instead.\n",
      "  df = df.append(pd.Series([len(df), item], index=df.columns), ignore_index=True)\n",
      "/tmp/ipykernel_155756/4211249837.py:3: FutureWarning: The frame.append method is deprecated and will be removed from pandas in a future version. Use pandas.concat instead.\n",
      "  df = df.append(pd.Series([len(df), item], index=df.columns), ignore_index=True)\n",
      "/tmp/ipykernel_155756/4211249837.py:3: FutureWarning: The frame.append method is deprecated and will be removed from pandas in a future version. Use pandas.concat instead.\n",
      "  df = df.append(pd.Series([len(df), item], index=df.columns), ignore_index=True)\n",
      "/tmp/ipykernel_155756/4211249837.py:3: FutureWarning: The frame.append method is deprecated and will be removed from pandas in a future version. Use pandas.concat instead.\n",
      "  df = df.append(pd.Series([len(df), item], index=df.columns), ignore_index=True)\n",
      "/tmp/ipykernel_155756/4211249837.py:3: FutureWarning: The frame.append method is deprecated and will be removed from pandas in a future version. Use pandas.concat instead.\n",
      "  df = df.append(pd.Series([len(df), item], index=df.columns), ignore_index=True)\n",
      "/tmp/ipykernel_155756/4211249837.py:3: FutureWarning: The frame.append method is deprecated and will be removed from pandas in a future version. Use pandas.concat instead.\n",
      "  df = df.append(pd.Series([len(df), item], index=df.columns), ignore_index=True)\n",
      "/tmp/ipykernel_155756/4211249837.py:3: FutureWarning: The frame.append method is deprecated and will be removed from pandas in a future version. Use pandas.concat instead.\n",
      "  df = df.append(pd.Series([len(df), item], index=df.columns), ignore_index=True)\n"
     ]
    }
   ],
   "source": [
    "if upload_success:\n",
    "    for item in uploaded_files:\n",
    "        df = df.append(pd.Series([len(df), item], index=df.columns), ignore_index=True)\n",
    "    csv_buffer = io.StringIO()\n",
    "    df.to_csv(csv_buffer, index=False) \n",
    "    s3.put_object(Bucket=BUCKET_NAME, Key=INDEX_FILE, Body=csv_buffer.getvalue())"
   ]
  }
 ],
 "metadata": {
  "kernelspec": {
   "display_name": "Python 3",
   "language": "python",
   "name": "python3"
  },
  "language_info": {
   "codemirror_mode": {
    "name": "ipython",
    "version": 3
   },
   "file_extension": ".py",
   "mimetype": "text/x-python",
   "name": "python",
   "nbconvert_exporter": "python",
   "pygments_lexer": "ipython3",
   "version": "3.10.12"
  }
 },
 "nbformat": 4,
 "nbformat_minor": 2
}
