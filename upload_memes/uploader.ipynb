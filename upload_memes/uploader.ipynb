{
 "cells": [
  {
   "cell_type": "code",
   "execution_count": 14,
   "metadata": {},
   "outputs": [
    {
     "data": {
      "text/plain": [
       "True"
      ]
     },
     "execution_count": 14,
     "metadata": {},
     "output_type": "execute_result"
    }
   ],
   "source": [
    "# Importing the required libraries\n",
    "import boto3\n",
    "import os\n",
    "import io\n",
    "import uuid\n",
    "from dotenv import load_dotenv\n",
    "import pandas as pd\n",
    "# Load environment variables from .env file\n",
    "load_dotenv()"
   ]
  },
  {
   "cell_type": "code",
   "execution_count": 15,
   "metadata": {},
   "outputs": [],
   "source": [
    "UPLOAD_FOLDER = \"memes_input\"\n",
    "BUCKET_NAME = 'memes-repo-ia'"
   ]
  },
  {
   "cell_type": "code",
   "execution_count": 16,
   "metadata": {},
   "outputs": [],
   "source": [
    "#meme_type = \"shitpost\"\n",
    "meme_type = \"bean\""
   ]
  },
  {
   "cell_type": "code",
   "execution_count": 17,
   "metadata": {},
   "outputs": [],
   "source": [
    "if meme_type == \"shitpost\":\n",
    "    INDEX_FILE = 'csv-folder/indexes.csv'\n",
    "    EMES_FOLDER = 'memes-folder'\n",
    "if meme_type == \"bean\":\n",
    "    INDEX_FILE = 'csv-folder/indexes-bean.csv'\n",
    "    MEMES_FOLDER = 'beans-folder'"
   ]
  },
  {
   "cell_type": "code",
   "execution_count": 18,
   "metadata": {},
   "outputs": [],
   "source": [
    "s3 = boto3.client('s3')\n",
    "obj = s3.get_object(Bucket=BUCKET_NAME, Key=INDEX_FILE)\n",
    "df = pd.read_csv(obj['Body'])"
   ]
  },
  {
   "cell_type": "code",
   "execution_count": 19,
   "metadata": {},
   "outputs": [
    {
     "name": "stdout",
     "output_type": "stream",
     "text": [
      "Uploaded: 3aIi4GK.jpg as beans-folder/dfd3c2_3aIi4GK.jpg\n",
      "Uploaded: 4cb9dbb8206f83fdf537129cb5ac00fb.jpg as beans-folder/adaf1f_4cb9dbb8206f83fdf537129cb5ac00fb.jpg\n",
      "Uploaded: 7392fc461f872a33e1512ad03c95690c2c574dfd4ee40ea9465715ac862585ac_1.jpg as beans-folder/feb5f5_7392fc461f872a33e1512ad03c95690c2c574dfd4ee40ea9465715ac862585ac_1.jpg\n",
      "Uploaded: bdf80f06873f98e3bfcbf9b2dea8c9d1.jpg as beans-folder/4d6621_bdf80f06873f98e3bfcbf9b2dea8c9d1.jpg\n",
      "Uploaded: EU0zKVpWoAAUIUS.jpg as beans-folder/04c619_EU0zKVpWoAAUIUS.jpg\n",
      "Uploaded: image.jpg as beans-folder/8ff96d_image.jpg\n",
      "Uploaded: images.jpg as beans-folder/7c5dd9_images.jpg\n",
      "Uploaded: jthregf.jpg as beans-folder/630652_jthregf.jpg\n",
      "Uploaded: Nm4sx9x.jpg as beans-folder/bddf7f_Nm4sx9x.jpg\n",
      "Uploaded: omikZoM.jpg as beans-folder/b3eadd_omikZoM.jpg\n",
      "Uploaded: rtsht.jpg as beans-folder/45cfb3_rtsht.jpg\n",
      "Uploaded: Screen-Shot-2022-05-02-at-10.jpg as beans-folder/e895ba_Screen-Shot-2022-05-02-at-10.jpg\n",
      "Uploaded: Screen-Shot-2022-05-02-at-6.jpg as beans-folder/1e81cb_Screen-Shot-2022-05-02-at-6.jpg\n",
      "Uploaded: zpo67chgq3sq.jpg as beans-folder/44889a_zpo67chgq3sq.jpg\n"
     ]
    }
   ],
   "source": [
    "uploaded_files = []\n",
    "upload_success = False\n",
    "for filename in os.listdir(UPLOAD_FOLDER):\n",
    "    local_path = os.path.join(UPLOAD_FOLDER, filename)\n",
    "    uid = str(uuid.uuid4())[:6]\n",
    "    s3_key = f\"{MEMES_FOLDER}/{uid}_{filename}\"\n",
    "    try:\n",
    "        s3.upload_file(local_path, BUCKET_NAME, s3_key)\n",
    "        uploaded_files.append(s3_key)\n",
    "        print(f\"Uploaded: {filename} as {s3_key}\")\n",
    "        os.remove(local_path)\n",
    "        upload_success = True\n",
    "    except Exception as e:\n",
    "        print(f\"Error uploading {filename}: {str(e)}\")\n",
    "\n"
   ]
  },
  {
   "cell_type": "code",
   "execution_count": 20,
   "metadata": {},
   "outputs": [
    {
     "data": {
      "text/plain": [
       "['beans-folder/dfd3c2_3aIi4GK.jpg',\n",
       " 'beans-folder/adaf1f_4cb9dbb8206f83fdf537129cb5ac00fb.jpg',\n",
       " 'beans-folder/feb5f5_7392fc461f872a33e1512ad03c95690c2c574dfd4ee40ea9465715ac862585ac_1.jpg',\n",
       " 'beans-folder/4d6621_bdf80f06873f98e3bfcbf9b2dea8c9d1.jpg',\n",
       " 'beans-folder/04c619_EU0zKVpWoAAUIUS.jpg',\n",
       " 'beans-folder/8ff96d_image.jpg',\n",
       " 'beans-folder/7c5dd9_images.jpg',\n",
       " 'beans-folder/630652_jthregf.jpg',\n",
       " 'beans-folder/bddf7f_Nm4sx9x.jpg',\n",
       " 'beans-folder/b3eadd_omikZoM.jpg',\n",
       " 'beans-folder/45cfb3_rtsht.jpg',\n",
       " 'beans-folder/e895ba_Screen-Shot-2022-05-02-at-10.jpg',\n",
       " 'beans-folder/1e81cb_Screen-Shot-2022-05-02-at-6.jpg',\n",
       " 'beans-folder/44889a_zpo67chgq3sq.jpg']"
      ]
     },
     "execution_count": 20,
     "metadata": {},
     "output_type": "execute_result"
    }
   ],
   "source": [
    "uploaded_files"
   ]
  },
  {
   "cell_type": "code",
   "execution_count": 21,
   "metadata": {},
   "outputs": [
    {
     "name": "stderr",
     "output_type": "stream",
     "text": [
      "/tmp/ipykernel_53519/4211249837.py:3: FutureWarning: The frame.append method is deprecated and will be removed from pandas in a future version. Use pandas.concat instead.\n",
      "  df = df.append(pd.Series([len(df), item], index=df.columns), ignore_index=True)\n",
      "/tmp/ipykernel_53519/4211249837.py:3: FutureWarning: The frame.append method is deprecated and will be removed from pandas in a future version. Use pandas.concat instead.\n",
      "  df = df.append(pd.Series([len(df), item], index=df.columns), ignore_index=True)\n",
      "/tmp/ipykernel_53519/4211249837.py:3: FutureWarning: The frame.append method is deprecated and will be removed from pandas in a future version. Use pandas.concat instead.\n",
      "  df = df.append(pd.Series([len(df), item], index=df.columns), ignore_index=True)\n",
      "/tmp/ipykernel_53519/4211249837.py:3: FutureWarning: The frame.append method is deprecated and will be removed from pandas in a future version. Use pandas.concat instead.\n",
      "  df = df.append(pd.Series([len(df), item], index=df.columns), ignore_index=True)\n",
      "/tmp/ipykernel_53519/4211249837.py:3: FutureWarning: The frame.append method is deprecated and will be removed from pandas in a future version. Use pandas.concat instead.\n",
      "  df = df.append(pd.Series([len(df), item], index=df.columns), ignore_index=True)\n",
      "/tmp/ipykernel_53519/4211249837.py:3: FutureWarning: The frame.append method is deprecated and will be removed from pandas in a future version. Use pandas.concat instead.\n",
      "  df = df.append(pd.Series([len(df), item], index=df.columns), ignore_index=True)\n",
      "/tmp/ipykernel_53519/4211249837.py:3: FutureWarning: The frame.append method is deprecated and will be removed from pandas in a future version. Use pandas.concat instead.\n",
      "  df = df.append(pd.Series([len(df), item], index=df.columns), ignore_index=True)\n",
      "/tmp/ipykernel_53519/4211249837.py:3: FutureWarning: The frame.append method is deprecated and will be removed from pandas in a future version. Use pandas.concat instead.\n",
      "  df = df.append(pd.Series([len(df), item], index=df.columns), ignore_index=True)\n",
      "/tmp/ipykernel_53519/4211249837.py:3: FutureWarning: The frame.append method is deprecated and will be removed from pandas in a future version. Use pandas.concat instead.\n",
      "  df = df.append(pd.Series([len(df), item], index=df.columns), ignore_index=True)\n",
      "/tmp/ipykernel_53519/4211249837.py:3: FutureWarning: The frame.append method is deprecated and will be removed from pandas in a future version. Use pandas.concat instead.\n",
      "  df = df.append(pd.Series([len(df), item], index=df.columns), ignore_index=True)\n",
      "/tmp/ipykernel_53519/4211249837.py:3: FutureWarning: The frame.append method is deprecated and will be removed from pandas in a future version. Use pandas.concat instead.\n",
      "  df = df.append(pd.Series([len(df), item], index=df.columns), ignore_index=True)\n",
      "/tmp/ipykernel_53519/4211249837.py:3: FutureWarning: The frame.append method is deprecated and will be removed from pandas in a future version. Use pandas.concat instead.\n",
      "  df = df.append(pd.Series([len(df), item], index=df.columns), ignore_index=True)\n",
      "/tmp/ipykernel_53519/4211249837.py:3: FutureWarning: The frame.append method is deprecated and will be removed from pandas in a future version. Use pandas.concat instead.\n",
      "  df = df.append(pd.Series([len(df), item], index=df.columns), ignore_index=True)\n",
      "/tmp/ipykernel_53519/4211249837.py:3: FutureWarning: The frame.append method is deprecated and will be removed from pandas in a future version. Use pandas.concat instead.\n",
      "  df = df.append(pd.Series([len(df), item], index=df.columns), ignore_index=True)\n"
     ]
    }
   ],
   "source": [
    "if upload_success:\n",
    "    for item in uploaded_files:\n",
    "        df = df.append(pd.Series([len(df), item], index=df.columns), ignore_index=True)\n",
    "    csv_buffer = io.StringIO()\n",
    "    df.to_csv(csv_buffer, index=False) \n",
    "    s3.put_object(Bucket=BUCKET_NAME, Key=INDEX_FILE, Body=csv_buffer.getvalue())"
   ]
  }
 ],
 "metadata": {
  "kernelspec": {
   "display_name": "Python 3",
   "language": "python",
   "name": "python3"
  },
  "language_info": {
   "codemirror_mode": {
    "name": "ipython",
    "version": 3
   },
   "file_extension": ".py",
   "mimetype": "text/x-python",
   "name": "python",
   "nbconvert_exporter": "python",
   "pygments_lexer": "ipython3",
   "version": "3.10.12"
  }
 },
 "nbformat": 4,
 "nbformat_minor": 2
}
