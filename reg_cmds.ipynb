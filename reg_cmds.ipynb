{
 "cells": [
  {
   "cell_type": "code",
   "execution_count": 1,
   "metadata": {},
   "outputs": [],
   "source": [
    "import requests\n",
    "import yaml\n",
    "from dotenv import load_dotenv\n",
    "import os\n"
   ]
  },
  {
   "cell_type": "code",
   "execution_count": 2,
   "metadata": {},
   "outputs": [],
   "source": [
    "load_dotenv()\n",
    "TOKEN = os.getenv('TOKEN')\n",
    "APPLICATION_ID = os.getenv('APPLICATION_ID')\n",
    "URL = f\"https://discord.com/api/v9/applications/{APPLICATION_ID}/commands\""
   ]
  },
  {
   "cell_type": "code",
   "execution_count": 3,
   "metadata": {},
   "outputs": [],
   "source": [
    "if os.getenv(\"TOKEN\") is None and os.getenv(\"APPLICATION_ID\") is None:\n",
    "    from dotenv import set_key\n",
    "    # Save the values to the env file\n",
    "    TOKEN = input(\"Enter your bot token: \")\n",
    "    APPLICATION_ID = input(\"Enter your application ID: \")\n",
    "\n",
    "    set_key('.env', 'TOKEN', TOKEN)\n",
    "    set_key('.env', 'APPLICATION_ID', APPLICATION_ID)"
   ]
  },
  {
   "cell_type": "code",
   "execution_count": 4,
   "metadata": {},
   "outputs": [],
   "source": [
    "with open(\"commands.yaml\", \"r\") as file:\n",
    "    commands = yaml.safe_load(file)"
   ]
  },
  {
   "cell_type": "code",
   "execution_count": 5,
   "metadata": {},
   "outputs": [],
   "source": [
    "headers = {\"Authorization\": f\"Bot {TOKEN}\", \"Content-Type\": \"application/json\"}"
   ]
  },
  {
   "cell_type": "code",
   "execution_count": 6,
   "metadata": {},
   "outputs": [
    {
     "name": "stdout",
     "output_type": "stream",
     "text": [
      "Command statuscheck has been created\n",
      "Command echo has been created\n",
      "Command shitpost has been created\n"
     ]
    }
   ],
   "source": [
    "responses = []\n",
    "for command in commands:\n",
    "    response = requests.post(URL, headers=headers, json=command)\n",
    "    command_name = command[\"name\"]\n",
    "    print(f\"Command {command_name} has been {'created' if response.status_code == 201 else 'failed'}\")"
   ]
  }
 ],
 "metadata": {
  "kernelspec": {
   "display_name": "Python 3",
   "language": "python",
   "name": "python3"
  },
  "language_info": {
   "codemirror_mode": {
    "name": "ipython",
    "version": 3
   },
   "file_extension": ".py",
   "mimetype": "text/x-python",
   "name": "python",
   "nbconvert_exporter": "python",
   "pygments_lexer": "ipython3",
   "version": "3.10.12"
  }
 },
 "nbformat": 4,
 "nbformat_minor": 2
}
