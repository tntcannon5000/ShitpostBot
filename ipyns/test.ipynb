{
 "cells": [
  {
   "cell_type": "code",
   "execution_count": 80,
   "metadata": {},
   "outputs": [],
   "source": [
    "import requests\n",
    "import os\n",
    "import "
   ]
  },
  {
   "cell_type": "code",
   "execution_count": 88,
   "metadata": {},
   "outputs": [],
   "source": [
    "channel_id = \"\"  # Replace with your channel ID"
   ]
  },
  {
   "cell_type": "code",
   "execution_count": 84,
   "metadata": {},
   "outputs": [],
   "source": [
    "\n",
    "channel_id = \"\"  # Replace with your channel ID\n",
    "def upload_to_discord(file_path, channel_id):\n",
    "    BOT_TOKEN = os.getenv(\"BOT_TOKEN\")\n",
    "    url = f\"https://discord.com/api/v10/channels/{channel_id}/messages\"\n",
    "    \n",
    "    file_name = os.path.basename(file_path)\n",
    "    extension = os.path.splitext(file_name)[1]\n",
    "    content_type_map = {\n",
    "        # Images\n",
    "        'jpg': 'image/jpeg',\n",
    "        'jpeg': 'image/jpeg',\n",
    "        'png': 'image/png',\n",
    "        'gif': 'image/gif',\n",
    "        'bmp': 'image/bmp',\n",
    "        'webp': 'image/webp',\n",
    "        'tiff': 'image/tiff',\n",
    "        'tif': 'image/tiff',\n",
    "\n",
    "        # Videos\n",
    "        'mp4': 'video/mp4',\n",
    "        'avi': 'video/x-msvideo',\n",
    "        'mov': 'video/quicktime', \n",
    "        'mkv': 'video/x-matroska',\n",
    "        'webm': 'video/webm',\n",
    "        'flv': 'video/x-flv', \n",
    "        'wmv': 'video/x-ms-wmv',\n",
    "        'mpeg': 'video/mpeg',\n",
    "        'mpg': 'video/mpeg'}\n",
    "    \n",
    "    content_type = content_type_map.get(extension[1:], 'application/octet-stream')\n",
    "    with open(file_path, 'rb') as f:\n",
    "        file = {'file': (file_name, f, content_type)} \n",
    "\n",
    "        url = f\"https://discord.com/api/v10/channels/{channel_id}/messages\"\n",
    "        headers = {\n",
    "            \"Authorization\": f\"Bot {BOT_TOKEN}\"\n",
    "        }\n",
    "        \n",
    "        response = requests.post(url, headers=headers, files=file)\n",
    "\n",
    "        if response.status_code == 200:\n",
    "            data = response.json()\n",
    "            attachments = data.get(\"attachments\", [])\n",
    "            if attachments:\n",
    "                return attachments[0][\"url\"]\n",
    "            else:\n",
    "                print(\"File uploaded, but URL not found in response.\")\n",
    "        else:\n",
    "            print(f\"Error uploading file: {response.text}\")\n",
    "    return None\n"
   ]
  },
  {
   "cell_type": "code",
   "execution_count": 85,
   "metadata": {},
   "outputs": [],
   "source": [
    "def download_random_s3_file():\n",
    "    import boto3\n",
    "    import csv\n",
    "    import random\n",
    "    import io\n",
    "    from dotenv import load_dotenv\n",
    "    load_dotenv()\n",
    "    \n",
    "    s3 = boto3.client('s3')\n",
    "    BUCKET_NAME = 'memes-repo-ia'\n",
    "    INDEX_FILE = 'csv-folder/indexes.csv'\n",
    "\n",
    "    try:\n",
    "        response = s3.get_object(Bucket=BUCKET_NAME, Key=INDEX_FILE)\n",
    "        data = response['Body'].read().decode('utf-8')\n",
    "        reader = csv.reader(data.splitlines())\n",
    "        file_keys = [row[1] for row in reader] # Extract the keys from the CSV\n",
    "        del file_keys[0]\n",
    "        num_files = len(file_keys)\n",
    "        random_file_key = file_keys[random.randint(0, num_files - 1)]\n",
    "        filename = os.path.basename(random_file_key)\n",
    "        filepath = os.path.join(\"/tmp\", filename)\n",
    "        s3.download_file(BUCKET_NAME, random_file_key, filepath)\n",
    "        return filepath\n",
    "            \n",
    "    except Exception as e:\n",
    "        print(f\"An error occurred: {e}\")"
   ]
  },
  {
   "cell_type": "code",
   "execution_count": 89,
   "metadata": {},
   "outputs": [
    {
     "data": {
      "text/plain": [
       "'https://cdn.discordapp.com/attachments/1255987460828037273/1255991983793508352/0a27ab_IMG_8596.jpg?ex=667f2530&is=667dd3b0&hm=8c4993786690cbd663db39047b99aad8f82b88a8cfc3ee6c3d5efc89488c48cd&'"
      ]
     },
     "execution_count": 89,
     "metadata": {},
     "output_type": "execute_result"
    }
   ],
   "source": [
    "upload_to_discord(download_random_s3_file(), channel_id)"
   ]
  },
  {
   "cell_type": "code",
   "execution_count": null,
   "metadata": {},
   "outputs": [],
   "source": [
    "def download_random_s3_file_bytesio():\n",
    "    import boto3\n",
    "    import csv\n",
    "    import random\n",
    "    import io\n",
    "    from dotenv import load_dotenv\n",
    "    load_dotenv()\n",
    "    \n",
    "    \n",
    "    s3 = boto3.client('s3')\n",
    "    BUCKET_NAME = 'memes-repo-ia'\n",
    "    INDEX_FILE = 'csv-folder/indexes.csv'\n",
    "\n",
    "    try:\n",
    "        response = s3.get_object(Bucket=BUCKET_NAME, Key=INDEX_FILE)\n",
    "        data = response['Body'].read().decode('utf-8')\n",
    "        reader = csv.reader(data.splitlines())\n",
    "        file_keys = [row[1] for row in reader] # Extract the keys from the CSV\n",
    "        del file_keys[0]\n",
    "        num_files = len(file_keys)\n",
    "        random_file_key = file_keys[random.randint(0, num_files - 1)]\n",
    "\n",
    "        with io.BytesIO() as file_buffer:\n",
    "            s3.download_file(BUCKET_NAME, random_file_key, \"thefile\")\n",
    "            file_buffer.seek(0)\n",
    "            theimage = file_buffer.getvalue()\n",
    "\n",
    "            \n",
    "\n",
    "        return theimage\n",
    "            \n",
    "    except Exception as e:\n",
    "        print(f\"An error occurred: {e}\")"
   ]
  },
  {
   "cell_type": "code",
   "execution_count": null,
   "metadata": {},
   "outputs": [],
   "source": []
  }
 ],
 "metadata": {
  "kernelspec": {
   "display_name": "Python 3",
   "language": "python",
   "name": "python3"
  },
  "language_info": {
   "codemirror_mode": {
    "name": "ipython",
    "version": 3
   },
   "file_extension": ".py",
   "mimetype": "text/x-python",
   "name": "python",
   "nbconvert_exporter": "python",
   "pygments_lexer": "ipython3",
   "version": "3.10.12"
  }
 },
 "nbformat": 4,
 "nbformat_minor": 2
}
