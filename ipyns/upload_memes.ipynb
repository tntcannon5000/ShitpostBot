{
 "cells": [
  {
   "cell_type": "code",
   "execution_count": null,
   "metadata": {},
   "outputs": [],
   "source": [
    "import os\n",
    "import uuid\n",
    "import boto3\n",
    "from datetime import datetime\n",
    "from IPython.display import display, Image\n",
    "\n",
    "# AWS setup\n",
    "BUCKET_NAME = \"your-s3-bucket-name\"\n",
    "TABLE_NAME = \"your-dynamodb-table-name\"\n",
    "\n",
    "# Initialize AWS clients\n",
    "s3_client = boto3.client('s3')\n",
    "dynamodb = boto3.resource('dynamodb')\n",
    "table = dynamodb.Table(TABLE_NAME)\n",
    "\n",
    "print(\"AWS services initialized.\")"
   ]
  },
  {
   "cell_type": "code",
   "execution_count": null,
   "metadata": {},
   "outputs": [],
   "source": [
    "def upload_image(file_path, category=None):\n",
    "    file_id = str(uuid.uuid4())\n",
    "    file_extension = os.path.splitext(file_path)[1].lower()\n",
    "    s3_key = f\"memes/{file_id}{file_extension}\"\n",
    "    \n",
    "    # Upload to S3\n",
    "    s3_client.upload_file(file_path, BUCKET_NAME, s3_key)\n",
    "    \n",
    "    # Add to DynamoDB\n",
    "    table.put_item(\n",
    "        Item={\n",
    "            'id': file_id,\n",
    "            's3_key': s3_key,\n",
    "            'original_filename': os.path.basename(file_path),\n",
    "            'category': category,\n",
    "            'upload_date': datetime.now().isoformat()\n",
    "        }\n",
    "    )\n",
    "    \n",
    "    print(f\"Uploaded {file_path} to S3 with key: {s3_key}\")\n",
    "    print(f\"Added entry to DynamoDB with ID: {file_id}\")\n",
    "    \n",
    "    return file_id\n",
    "\n",
    "print(\"upload_image function defined.\")"
   ]
  },
  {
   "cell_type": "code",
   "execution_count": null,
   "metadata": {},
   "outputs": [],
   "source": [
    "def list_local_images(directory):\n",
    "    image_extensions = ('.png', '.jpg', '.jpeg', '.gif')\n",
    "    return [f for f in os.listdir(directory) if f.lower().endswith(image_extensions)]\n",
    "\n",
    "def display_image(file_path):\n",
    "    display(Image(filename=file_path, width=300))\n",
    "\n",
    "print(\"Utility functions defined.\")"
   ]
  },
  {
   "cell_type": "code",
   "execution_count": null,
   "metadata": {},
   "outputs": [],
   "source": [
    "# Example usage for a single file\n",
    "image_directory = \"path/to/your/image/directory\"\n",
    "image_files = list_local_images(image_directory)\n",
    "\n",
    "if image_files:\n",
    "    file_to_upload = os.path.join(image_directory, image_files[0])\n",
    "    print(f\"Uploading: {file_to_upload}\")\n",
    "    display_image(file_to_upload)\n",
    "    \n",
    "    file_id = upload_image(file_to_upload, category=\"example\")\n",
    "    print(f\"Uploaded with ID: {file_id}\")\n",
    "else:\n",
    "    print(\"No image files found in the specified directory.\")"
   ]
  },
  {
   "cell_type": "code",
   "execution_count": null,
   "metadata": {},
   "outputs": [],
   "source": [
    "# Example usage for multiple files\n",
    "image_directory = \"path/to/your/image/directory\"\n",
    "image_files = list_local_images(image_directory)\n",
    "\n",
    "for image_file in image_files[:5]:  # Limit to first 5 images for this example\n",
    "    file_to_upload = os.path.join(image_directory, image_file)\n",
    "    print(f\"\\nUploading: {file_to_upload}\")\n",
    "    display_image(file_to_upload)\n",
    "    \n",
    "    file_id = upload_image(file_to_upload, category=\"batch_upload\")\n",
    "    print(f\"Uploaded with ID: {file_id}\")\n",
    "\n",
    "print(\"\\nBatch upload complete.\")"
   ]
  },
  {
   "cell_type": "code",
   "execution_count": null,
   "metadata": {},
   "outputs": [],
   "source": [
    "def verify_upload(file_id):\n",
    "    try:\n",
    "        response = table.get_item(Key={'id': file_id})\n",
    "        item = response.get('Item')\n",
    "        if item:\n",
    "            print(f\"File with ID {file_id} found in DynamoDB.\")\n",
    "            s3_key = item['s3_key']\n",
    "            s3_client.head_object(Bucket=BUCKET_NAME, Key=s3_key)\n",
    "            print(f\"File with key {s3_key} found in S3 bucket.\")\n",
    "            return True\n",
    "        else:\n",
    "            print(f\"File with ID {file_id} not found in DynamoDB.\")\n",
    "            return False\n",
    "    except Exception as e:\n",
    "        print(f\"Error verifying upload: {str(e)}\")\n",
    "        return False\n",
    "\n",
    "# Example usage\n",
    "file_id_to_verify = \"paste_a_file_id_here\"\n",
    "verify_upload(file_id_to_verify)"
   ]
  }
 ],
 "metadata": {
  "language_info": {
   "name": "python"
  }
 },
 "nbformat": 4,
 "nbformat_minor": 2
}
