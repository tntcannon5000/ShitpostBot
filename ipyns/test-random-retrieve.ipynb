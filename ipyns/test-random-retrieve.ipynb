{
 "cells": [
  {
   "cell_type": "code",
   "execution_count": 12,
   "metadata": {},
   "outputs": [
    {
     "ename": "ImportError",
     "evalue": "cannot import name 'InteractionResponse' from 'discord_interactions' (/home/niranj/.local/lib/python3.10/site-packages/discord_interactions/__init__.py)",
     "output_type": "error",
     "traceback": [
      "\u001b[0;31m---------------------------------------------------------------------------\u001b[0m",
      "\u001b[0;31mImportError\u001b[0m                               Traceback (most recent call last)",
      "Cell \u001b[0;32mIn[12], line 1\u001b[0m\n\u001b[0;32m----> 1\u001b[0m \u001b[38;5;28;01mfrom\u001b[39;00m \u001b[38;5;21;01mdiscord_interactions\u001b[39;00m \u001b[38;5;28;01mimport\u001b[39;00m InteractionResponse\n",
      "\u001b[0;31mImportError\u001b[0m: cannot import name 'InteractionResponse' from 'discord_interactions' (/home/niranj/.local/lib/python3.10/site-packages/discord_interactions/__init__.py)"
     ]
    }
   ],
   "source": [
    "from discord_interactions import InteractionResponse"
   ]
  },
  {
   "cell_type": "code",
   "execution_count": 9,
   "metadata": {},
   "outputs": [
    {
     "data": {
      "text/plain": [
       "True"
      ]
     },
     "execution_count": 9,
     "metadata": {},
     "output_type": "execute_result"
    }
   ],
   "source": [
    "from dotenv import load_dotenv\n",
    "load_dotenv()"
   ]
  },
  {
   "cell_type": "code",
   "execution_count": 44,
   "metadata": {},
   "outputs": [],
   "source": [
    "def download_random_s3_file():\n",
    "    import boto3\n",
    "    import csv\n",
    "    import random\n",
    "    import io\n",
    "    import requests\n",
    "    import os\n",
    "    \n",
    "    s3 = boto3.client('s3')\n",
    "    BUCKET_NAME = 'memes-repo-ia'\n",
    "    INDEX_FILE = 'csv-folder/indexes.csv'\n",
    "\n",
    "    try:\n",
    "        response = s3.get_object(Bucket=BUCKET_NAME, Key=INDEX_FILE)\n",
    "        data = response['Body'].read().decode('utf-8')\n",
    "        reader = csv.reader(data.splitlines())\n",
    "        file_keys = [row[1] for row in reader] # Extract the keys from the CSV\n",
    "        del file_keys[0]\n",
    "        num_files = len(file_keys)\n",
    "        random_file_key = file_keys[random.randint(0, num_files - 1)]\n",
    "        print(random_file_key)\n",
    "        with io.BytesIO() as file_buffer:\n",
    "            s3.download_fileobj(BUCKET_NAME, random_file_key, file_buffer)\n",
    "            file_buffer.seek(0)\n",
    "            theimage = file_buffer.getvalue()\n",
    "        return theimage, random_file_key\n",
    "\n",
    "            \n",
    "    except Exception as e:\n",
    "        print(f\"An error occurred: {e}\")"
   ]
  },
  {
   "cell_type": "code",
   "execution_count": 45,
   "metadata": {},
   "outputs": [
    {
     "name": "stdout",
     "output_type": "stream",
     "text": [
      "memes-folder/af2a5f_IMG_8795.jpg\n"
     ]
    }
   ],
   "source": [
    "theimage, random_file_key = download_random_s3_file()"
   ]
  },
  {
   "cell_type": "code",
   "execution_count": 46,
   "metadata": {},
   "outputs": [],
   "source": [
    "import os\n",
    "file_path = os.path.basename(random_file_key) \n",
    "with open(file_path, 'wb') as output_file:\n",
    "    output_file.write(theimage)"
   ]
  },
  {
   "cell_type": "code",
   "execution_count": 40,
   "metadata": {},
   "outputs": [
    {
     "name": "stdout",
     "output_type": "stream",
     "text": [
      "memes-folder/9e6407_8c0a01_c7a0cda.jpg\n"
     ]
    }
   ],
   "source": []
  },
  {
   "cell_type": "code",
   "execution_count": 10,
   "metadata": {},
   "outputs": [],
   "source": [
    "def download_random_s3_file(local_filename = 'random-meme.jpg'):\n",
    "    import boto3\n",
    "    import csv\n",
    "    import random\n",
    "    \n",
    "    s3 = boto3.client('s3')\n",
    "    BUCKET_NAME = 'memes-repo-ia'\n",
    "    INDEX_FILE = 'csv-folder/indexes.csv'\n",
    "\n",
    "    try:\n",
    "\n",
    "        response = s3.get_object(Bucket=BUCKET_NAME, Key=INDEX_FILE)\n",
    "        data = response['Body'].read().decode('utf-8')\n",
    "        reader = csv.reader(data.splitlines())\n",
    "        file_keys = [row[1] for row in reader] # Extract the keys from the CSV\n",
    "        del file_keys[0]\n",
    "        num_files = len(file_keys)\n",
    "        random_file_key = file_keys[random.randint(0, num_files - 1)]\n",
    "\n",
    "        s3.download_file(BUCKET_NAME, random_file_key, local_filename)\n",
    "        print(f\"Downloaded '{random_file_key}' to '{local_filename}' successfully.\")\n",
    "    except Exception as e:\n",
    "        print(f\"An error occurred during download: {e}\")"
   ]
  },
  {
   "cell_type": "code",
   "execution_count": 11,
   "metadata": {},
   "outputs": [
    {
     "name": "stdout",
     "output_type": "stream",
     "text": [
      "Downloaded 'memes-folder/9880ce_IMG_9792.jpg' to 'random-meme.jpg' successfully.\n"
     ]
    }
   ],
   "source": [
    "download_random_s3_file()"
   ]
  }
 ],
 "metadata": {
  "kernelspec": {
   "display_name": "Python 3",
   "language": "python",
   "name": "python3"
  },
  "language_info": {
   "codemirror_mode": {
    "name": "ipython",
    "version": 3
   },
   "file_extension": ".py",
   "mimetype": "text/x-python",
   "name": "python",
   "nbconvert_exporter": "python",
   "pygments_lexer": "ipython3",
   "version": "3.10.12"
  }
 },
 "nbformat": 4,
 "nbformat_minor": 2
}
